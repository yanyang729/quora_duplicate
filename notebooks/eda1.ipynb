{
 "cells": [
  {
   "cell_type": "code",
   "execution_count": 2,
   "metadata": {
    "collapsed": true,
    "deletable": true,
    "editable": true
   },
   "outputs": [],
   "source": [
    "import numpy as np\n",
    "import pandas as pd\n",
    "import timeit"
   ]
  },
  {
   "cell_type": "code",
   "execution_count": 12,
   "metadata": {
    "collapsed": true
   },
   "outputs": [],
   "source": [
    "train_orig =  pd.read_csv('../input/train.csv', header=0)\n",
    "test_orig =  pd.read_csv('../input/test.csv', header=0)"
   ]
  },
  {
   "cell_type": "code",
   "execution_count": 21,
   "metadata": {
    "collapsed": false
   },
   "outputs": [],
   "source": [
    "all_q = np.concatenate((train_orig.question1.values,train_orig.question2.values,test_orig.question1.values,test_orig.question2.values))"
   ]
  },
  {
   "cell_type": "code",
   "execution_count": 24,
   "metadata": {
    "collapsed": false
   },
   "outputs": [
    {
     "data": {
      "text/plain": [
       "(5500172, 5500172)"
      ]
     },
     "execution_count": 24,
     "metadata": {},
     "output_type": "execute_result"
    }
   ],
   "source": [
    "len(all_q),(train_orig.shape[0]+test_orig.shape[0])*2"
   ]
  },
  {
   "cell_type": "code",
   "execution_count": 51,
   "metadata": {
    "collapsed": false
   },
   "outputs": [],
   "source": [
    "# create hash feature map dict\n",
    "mapper = {v:i for i, v in enumerate(set(all_q))}"
   ]
  },
  {
   "cell_type": "code",
   "execution_count": 58,
   "metadata": {
    "collapsed": true
   },
   "outputs": [],
   "source": [
    "from collections import Counter"
   ]
  },
  {
   "cell_type": "code",
   "execution_count": 59,
   "metadata": {
    "collapsed": false
   },
   "outputs": [],
   "source": [
    "ct = Counter(all_q)"
   ]
  },
  {
   "cell_type": "code",
   "execution_count": 64,
   "metadata": {
    "collapsed": false,
    "scrolled": false
   },
   "outputs": [
    {
     "data": {
      "text/plain": [
       "[('What ', 2686),\n",
       " ('How ', 1848),\n",
       " ('What is ', 1212),\n",
       " ('What are ', 803),\n",
       " ('How do ', 773)]"
      ]
     },
     "execution_count": 64,
     "metadata": {},
     "output_type": "execute_result"
    }
   ],
   "source": [
    "ct.most_common()[:5]"
   ]
  },
  {
   "cell_type": "code",
   "execution_count": 68,
   "metadata": {
    "collapsed": false
   },
   "outputs": [
    {
     "data": {
      "text/plain": [
       "0"
      ]
     },
     "execution_count": 68,
     "metadata": {},
     "output_type": "execute_result"
    }
   ],
   "source": [
    "ct['Whatadsfgasdf']"
   ]
  },
  {
   "cell_type": "code",
   "execution_count": 54,
   "metadata": {
    "collapsed": false
   },
   "outputs": [
    {
     "data": {
      "text/plain": [
       "0         3986592\n",
       "1          345043\n",
       "2          254074\n",
       "3         2346494\n",
       "4         2707702\n",
       "5          847798\n",
       "6         3999826\n",
       "7         3506330\n",
       "8         3027384\n",
       "9         1417021\n",
       "10        4097149\n",
       "11        2747180\n",
       "12        4159025\n",
       "13         935799\n",
       "14        1179087\n",
       "15         308555\n",
       "16          71166\n",
       "17        2335898\n",
       "18        2090493\n",
       "19        2075405\n",
       "20        4142091\n",
       "21        1789408\n",
       "22         548667\n",
       "23        1793436\n",
       "24        1976416\n",
       "25        1631843\n",
       "26        2676216\n",
       "27        2764173\n",
       "28        2131271\n",
       "29         305715\n",
       "           ...   \n",
       "404260     985450\n",
       "404261    4553493\n",
       "404262    2624255\n",
       "404263    3828246\n",
       "404264     241322\n",
       "404265    4118863\n",
       "404266     574458\n",
       "404267    3991013\n",
       "404268    4065985\n",
       "404269    3286491\n",
       "404270    3314444\n",
       "404271    4701738\n",
       "404272    1398109\n",
       "404273    3832990\n",
       "404274     203541\n",
       "404275    3193577\n",
       "404276    3101393\n",
       "404277    1705289\n",
       "404278    4624546\n",
       "404279    1877846\n",
       "404280    2104438\n",
       "404281    4298261\n",
       "404282    3828560\n",
       "404283    1627651\n",
       "404284     351130\n",
       "404285    4273120\n",
       "404286    1249193\n",
       "404287    1816492\n",
       "404288    3566828\n",
       "404289    2954496\n",
       "Name: question1, dtype: int64"
      ]
     },
     "execution_count": 54,
     "metadata": {},
     "output_type": "execute_result"
    }
   ],
   "source": [
    "train_orig.question1.apply(lambda x: mapper[x])"
   ]
  },
  {
   "cell_type": "code",
   "execution_count": null,
   "metadata": {
    "collapsed": true
   },
   "outputs": [],
   "source": []
  }
 ],
 "metadata": {
  "kernelspec": {
   "display_name": "Python 3",
   "language": "python",
   "name": "python3"
  },
  "language_info": {
   "codemirror_mode": {
    "name": "ipython",
    "version": 3
   },
   "file_extension": ".py",
   "mimetype": "text/x-python",
   "name": "python",
   "nbconvert_exporter": "python",
   "pygments_lexer": "ipython3",
   "version": "3.5.3"
  }
 },
 "nbformat": 4,
 "nbformat_minor": 2
}
